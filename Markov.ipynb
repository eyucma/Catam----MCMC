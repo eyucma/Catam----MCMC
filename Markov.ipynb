{
 "cells": [
  {
   "cell_type": "markdown",
   "id": "ac8f3ccd",
   "metadata": {},
   "source": [
    "# Markov Chain Monte Carlo"
   ]
  },
  {
   "cell_type": "markdown",
   "id": "543c1219",
   "metadata": {},
   "source": [
    "### Question 1\n",
    "As per the schemes of a Gibbs sampler, the setup proceeds by defining the transition probabilities of a Markov Chain. Assume the $n$-th step distribution is $p_{n}$, then:\n",
    "\n",
    "\\begin{equation}\n",
    "p_{n}(x)=\\int P(x,y)p_{n-1}(y) dy\n",
    "\\end{equation}\n",
    "Where $P(y,x)$ is the transition probability given for the Gibbs sampler. For example assuming we have three variables $(X,Y,Z)$. Then:\n",
    "\\begin{align}\n",
    "p_{n+1}(X_1,Y_1,Z_1)&=\\int p_{n}(X_0,Y_0,Z_0)P(X_1,Y_1,Z_1 \\mid X_0, Y_0,Z_0) \\\\\n",
    "&=\\int p_{n}(Y_0,Z_0)\\pi(X_1 \\mid Y_0, Z_0)\\pi(Y_1 \\mid X_1, Z_0)\\pi(Z_1 \\mid X_1, Y_1)\n",
    "\\end{align}\n",
    "Note the $X_{0}$ factors out due to integration over the whole space.\n",
    "Thus if the distribution at time $n$ was $\\pi$, then:\n",
    "\\begin{align}\n",
    "p_{n+1}(X_1,Y_1,Z_1)&=\\int \\pi(Y_0,Z_0)\\pi(X_1 \\mid Y_0, Z_0)\\pi(Y_1 \\mid X_1, Z_0)\\pi(Z_1 \\mid X_1, Y_1) \\\\\n",
    "&=\\int \\pi(X_1 , Y_0, Z_0)\\pi(Y_1 \\mid X_1, Z_0)\\pi(Z_1 \\mid X_1, Y_1) \\\\\n",
    "&=\\int \\pi(Y_0 \\mid X_1, Z_0)\\pi(X_1, Z_0)\\pi(Y_1 \\mid X_1, Z_0)\\pi(Z_1 \\mid X_1, Y_1) \\\\\n",
    "&=\\int \\pi(Y_0 \\mid X_1, Z_0)\\pi(Y_1 , X_1, Z_0)\\pi(Z_1 \\mid X_1, Y_1) \\\\\n",
    "&=\\int \\pi(Y_0 \\mid X_1, Z_0)\\pi(Z_0 \\mid Y_1 , X_1)\\pi(Z_1, X_1, Y_1) \\\\\n",
    "&=\\int \\pi(Z_0 \\mid Y_1 , X_1)\\pi(Z_1, X_1, Y_1) \\\\\n",
    "&=\\pi(Z_1, X_1, Y_1)\n",
    "\\end{align}\n",
    "Proving that $\\pi$ is the invariant distribution, thus our Gibbs Sampler will converge in distribution to $\\pi$ by the Ergodic theorem."
   ]
  },
  {
   "cell_type": "markdown",
   "id": "88fe1fde",
   "metadata": {},
   "source": [
    "#### Football Data\n",
    "Data from the performance of K football teams, over T years has been scored on a scale of 0 (no wins) to 114 (win in all 38 games), with a win scoring three and a draw scoring one point. Let us model $Y_{k,t}$, the score of the kth team in year $t$, as:\n",
    "\\begin{equation}\n",
    "Y_{k,t}|parameters \\sim N(μ_k,σ_{k}^2) \\quad \\text{for}  \\quad k = 1,...,K \\quad \\text{and} \\quad t = 1,...,T\n",
    "\\end{equation}\n",
    "with the hierarchical prior structure that the team mean $μ_k$ and variance $σ_{k}^{2}$ are independently\n",
    "distributed, given $\\theta$, as\n",
    "\\begin{align}\n",
    "μ_k|\\theta &\\sim N(\\theta,\\sigma_{0}^2) \\\\\n",
    "σ^2 &\\sim Γ(α, β) \n",
    "\\end{align}\n",
    "\n",
    "where $σ_0^2$, $α$ and $β$ are known parameters, and $θ$ is a second-stage prior with distribution $θ \\sim N(μ_0, τ_0^2)$,\n",
    "where $μ_0$ and $τ_0^2$ are known parameters.\n",
    "The Gibbs sampler is well suited to the analysis of hierarchical models, since the full one- dimensional conditional distributions often have extremely simple forms. For example, in the above model\n",
    "\\begin{equation}\n",
    "μ_k \\mid \\textbf{μ}_{-k} ,θ,σ^2,y \\sim N \\Big(\\frac{σ_{k}^{−2} \\sum_{t=1}^{T} y_{k,t} + θσ_{0}^{−2}}{Tσ_{k}^{−2} + σ_{0}^{−2}},\\frac{1}{Tσ_{k}^{−2} + σ_{0}^{−2}}\\Big)\n",
    "\\end{equation}\n",
    "\\begin{equation}\n",
    "θ \\mid μ ,σ^2,y \\sim N\\Big(\\frac{σ_{0}^{−2} \\sum_{k=1}^{K} \\mu_{k} + μτ_{0}^{−2}}{Kσ_{0}^{−2} + \\tau_{0}^{−2}},\\frac{1}{Kσ_{0}^{−2} + \\tau_{0}^{−2}}\\Big)\n",
    "\\end{equation}\n",
    "\n",
    "\\begin{equation}\n",
    "\\sigma_k^{-2} \\mid \\textbf{σ}_{-k}^{2}, \\mu,θ,y \\sim \\Gamma \\Big(α +\\frac{T}{2}, β + \\frac{1}{2}\\sum_{t=1}^{T} (y_{k,t} −μ_{k})^2 \\Big)\n",
    "\\end{equation}"
   ]
  },
  {
   "cell_type": "markdown",
   "id": "ce03e6d5",
   "metadata": {},
   "source": [
    "### Question 2\n",
    "Let's verify the above formulas, first note it should be clear that for each team, the parameters specific for each team $\\mu_{k},\\sigma_{k}, y_{k,t}$ are independent of the other teams $k'$ given $\\theta$. Also note the full joint density is (up to a constant):\n",
    "\\begin{equation}\n",
    "p(y, \\mu, \\theta, \\sigma^{2}) = \\sigma_{0}^{-K} \\tau_{0}^{-1}\\exp(-\\frac{(\\theta-\\mu_0)^2}{2\\tau_{0}^2}\n",
    "-\\frac{\\sum_{k=1}^K(\\mu_k-\\theta)^2}{2\\sigma_{0}^2}\n",
    "-\\frac{\\sum_{k,t}(y_{k,t}-\\mu_k)^2}{2\\sigma_{k}^2})\n",
    " \\prod_{k=1}^K \\sigma_{k}^{-T} \\sigma_{k}^{-2(\\alpha-1)} \\exp(-\\beta \\sigma_{k}^{-2})\n",
    "\\end{equation}\n",
    "Thus can read of the relevant distributions from two facts:\n",
    " - If $p(x) \\propto \\exp(-ax^2+bx)$ then $x \\sim N(\\frac{b}{2a},\\frac{1}{2a})$ provided a is positive\n",
    " - If $p(x) \\propto x^A \\exp(-Bx)$ then $x \\sim \\Gamma(A+1,B)$ provided $B$ is positive and $A$ is greater than -1.\n",
    " \n",
    "The conditional distribution can hence be derived by expanding and following the above steps.\n",
    "\n",
    "The marginal distribution of $\\mu$ can be computed by considering the characteristic function:\n",
    "\\begin{align}\n",
    "\\mathbb{E}(\\exp(it\\mu))&=\\mathbb{E}(\\mathbb{E}(\\exp(it\\mu) \\mid \\theta) ) \\\\\n",
    "&=\\mathbb{E}(\\exp(it\\theta-\\frac{1}{2}\\sigma_0^{2}t^2) ) \\\\\n",
    "&=\\mathbb{E}(\\exp(it\\mu_0-\\frac{1}{2}\\tau_0^{2}t^2-\\frac{1}{2}\\sigma_0^{2}t^2) )\n",
    "\\end{align}\n",
    "Thus we can conclude that:\n",
    "\\begin{equation}\n",
    "\\mu \\sim N(\\mu_0,\\sigma_0^{2}+\\tau_0^{2})\n",
    "\\end{equation}\n",
    "Can verify via some quick sampling:"
   ]
  },
  {
   "cell_type": "code",
   "execution_count": 28,
   "id": "c4609895",
   "metadata": {},
   "outputs": [
    {
     "data": {
      "text/plain": [
       "(array([0.000e+00, 0.000e+00, 0.000e+00, 0.000e+00, 0.000e+00, 0.000e+00,\n",
       "        0.000e+00, 0.000e+00, 0.000e+00, 0.000e+00, 0.000e+00, 0.000e+00,\n",
       "        0.000e+00, 0.000e+00, 0.000e+00, 0.000e+00, 0.000e+00, 0.000e+00,\n",
       "        0.000e+00, 0.000e+00, 0.000e+00, 0.000e+00, 0.000e+00, 0.000e+00,\n",
       "        1.000e+00, 0.000e+00, 0.000e+00, 1.000e+00, 3.000e+00, 1.000e+00,\n",
       "        5.000e+00, 1.300e+01, 1.900e+01, 4.200e+01, 7.300e+01, 1.650e+02,\n",
       "        2.300e+02, 4.480e+02, 6.920e+02, 9.880e+02, 1.593e+03, 2.238e+03,\n",
       "        2.942e+03, 3.789e+03, 4.944e+03, 5.677e+03, 6.693e+03, 7.493e+03,\n",
       "        7.868e+03, 7.997e+03, 7.869e+03, 7.427e+03, 6.713e+03, 5.894e+03,\n",
       "        4.897e+03, 3.842e+03, 2.974e+03, 2.184e+03, 1.519e+03, 1.078e+03,\n",
       "        6.940e+02, 4.320e+02, 2.400e+02, 1.530e+02, 8.200e+01, 3.500e+01,\n",
       "        3.600e+01, 1.300e+01, 1.000e+00, 0.000e+00, 2.000e+00, 0.000e+00,\n",
       "        0.000e+00, 0.000e+00, 0.000e+00, 0.000e+00, 0.000e+00, 0.000e+00,\n",
       "        0.000e+00, 0.000e+00, 0.000e+00, 0.000e+00, 0.000e+00, 0.000e+00,\n",
       "        0.000e+00, 0.000e+00, 0.000e+00, 0.000e+00, 0.000e+00, 0.000e+00,\n",
       "        0.000e+00, 0.000e+00, 0.000e+00, 0.000e+00, 0.000e+00, 0.000e+00,\n",
       "        0.000e+00, 0.000e+00, 0.000e+00]),\n",
       " array([-1.90000000e+01, -1.85959596e+01, -1.81919192e+01, -1.77878788e+01,\n",
       "        -1.73838384e+01, -1.69797980e+01, -1.65757576e+01, -1.61717172e+01,\n",
       "        -1.57676768e+01, -1.53636364e+01, -1.49595960e+01, -1.45555556e+01,\n",
       "        -1.41515152e+01, -1.37474747e+01, -1.33434343e+01, -1.29393939e+01,\n",
       "        -1.25353535e+01, -1.21313131e+01, -1.17272727e+01, -1.13232323e+01,\n",
       "        -1.09191919e+01, -1.05151515e+01, -1.01111111e+01, -9.70707071e+00,\n",
       "        -9.30303030e+00, -8.89898990e+00, -8.49494949e+00, -8.09090909e+00,\n",
       "        -7.68686869e+00, -7.28282828e+00, -6.87878788e+00, -6.47474747e+00,\n",
       "        -6.07070707e+00, -5.66666667e+00, -5.26262626e+00, -4.85858586e+00,\n",
       "        -4.45454545e+00, -4.05050505e+00, -3.64646465e+00, -3.24242424e+00,\n",
       "        -2.83838384e+00, -2.43434343e+00, -2.03030303e+00, -1.62626263e+00,\n",
       "        -1.22222222e+00, -8.18181818e-01, -4.14141414e-01, -1.01010101e-02,\n",
       "         3.93939394e-01,  7.97979798e-01,  1.20202020e+00,  1.60606061e+00,\n",
       "         2.01010101e+00,  2.41414141e+00,  2.81818182e+00,  3.22222222e+00,\n",
       "         3.62626263e+00,  4.03030303e+00,  4.43434343e+00,  4.83838384e+00,\n",
       "         5.24242424e+00,  5.64646465e+00,  6.05050505e+00,  6.45454545e+00,\n",
       "         6.85858586e+00,  7.26262626e+00,  7.66666667e+00,  8.07070707e+00,\n",
       "         8.47474747e+00,  8.87878788e+00,  9.28282828e+00,  9.68686869e+00,\n",
       "         1.00909091e+01,  1.04949495e+01,  1.08989899e+01,  1.13030303e+01,\n",
       "         1.17070707e+01,  1.21111111e+01,  1.25151515e+01,  1.29191919e+01,\n",
       "         1.33232323e+01,  1.37272727e+01,  1.41313131e+01,  1.45353535e+01,\n",
       "         1.49393939e+01,  1.53434343e+01,  1.57474747e+01,  1.61515152e+01,\n",
       "         1.65555556e+01,  1.69595960e+01,  1.73636364e+01,  1.77676768e+01,\n",
       "         1.81717172e+01,  1.85757576e+01,  1.89797980e+01,  1.93838384e+01,\n",
       "         1.97878788e+01,  2.01919192e+01,  2.05959596e+01,  2.10000000e+01]),\n",
       " <BarContainer object of 99 artists>)"
      ]
     },
     "execution_count": 28,
     "metadata": {},
     "output_type": "execute_result"
    },
    {
     "data": {
      "image/png": "[encoded data removed]",
      "text/plain": [
       "<Figure size 640x480 with 1 Axes>"
      ]
     },
     "metadata": {},
     "output_type": "display_data"
    }
   ],
   "source": [
    "import numpy as np\n",
    "import matplotlib.pyplot as plt\n",
    "bins=np.linspace(-19,21,100)\n",
    "a=np.random.normal(1,2, size=100000)\n",
    "plt.hist(a,bins=bins)"
   ]
  },
  {
   "cell_type": "markdown",
   "id": "632711c6",
   "metadata": {},
   "source": [
    "As a normal with mean 1 and scale 2, can see most of the points lie in 2 standard deviations"
   ]
  },
  {
   "cell_type": "code",
   "execution_count": 29,
   "id": "77563459",
   "metadata": {},
   "outputs": [
    {
     "data": {
      "text/plain": [
       "(array([0.000e+00, 0.000e+00, 0.000e+00, 0.000e+00, 0.000e+00, 0.000e+00,\n",
       "        0.000e+00, 0.000e+00, 0.000e+00, 0.000e+00, 0.000e+00, 1.000e+00,\n",
       "        0.000e+00, 1.000e+00, 1.000e+00, 2.000e+00, 5.000e+00, 7.000e+00,\n",
       "        3.000e+00, 1.300e+01, 3.300e+01, 3.600e+01, 5.600e+01, 5.500e+01,\n",
       "        1.090e+02, 1.280e+02, 1.720e+02, 2.340e+02, 2.800e+02, 3.570e+02,\n",
       "        4.480e+02, 5.570e+02, 7.940e+02, 9.070e+02, 1.064e+03, 1.284e+03,\n",
       "        1.518e+03, 1.805e+03, 2.073e+03, 2.415e+03, 2.711e+03, 3.035e+03,\n",
       "        3.288e+03, 3.493e+03, 3.863e+03, 4.041e+03, 4.207e+03, 4.385e+03,\n",
       "        4.500e+03, 4.339e+03, 4.410e+03, 4.435e+03, 4.169e+03, 4.064e+03,\n",
       "        3.786e+03, 3.518e+03, 3.334e+03, 3.028e+03, 2.643e+03, 2.360e+03,\n",
       "        2.103e+03, 1.803e+03, 1.528e+03, 1.298e+03, 1.133e+03, 9.230e+02,\n",
       "        7.620e+02, 5.830e+02, 4.470e+02, 3.430e+02, 3.090e+02, 1.960e+02,\n",
       "        1.770e+02, 1.280e+02, 9.300e+01, 5.500e+01, 4.700e+01, 3.400e+01,\n",
       "        2.500e+01, 1.100e+01, 1.100e+01, 7.000e+00, 6.000e+00, 2.000e+00,\n",
       "        3.000e+00, 1.000e+00, 3.000e+00, 2.000e+00, 0.000e+00, 0.000e+00,\n",
       "        0.000e+00, 0.000e+00, 0.000e+00, 0.000e+00, 0.000e+00, 0.000e+00,\n",
       "        0.000e+00, 0.000e+00, 0.000e+00]),\n",
       " array([-1.90000000e+01, -1.85959596e+01, -1.81919192e+01, -1.77878788e+01,\n",
       "        -1.73838384e+01, -1.69797980e+01, -1.65757576e+01, -1.61717172e+01,\n",
       "        -1.57676768e+01, -1.53636364e+01, -1.49595960e+01, -1.45555556e+01,\n",
       "        -1.41515152e+01, -1.37474747e+01, -1.33434343e+01, -1.29393939e+01,\n",
       "        -1.25353535e+01, -1.21313131e+01, -1.17272727e+01, -1.13232323e+01,\n",
       "        -1.09191919e+01, -1.05151515e+01, -1.01111111e+01, -9.70707071e+00,\n",
       "        -9.30303030e+00, -8.89898990e+00, -8.49494949e+00, -8.09090909e+00,\n",
       "        -7.68686869e+00, -7.28282828e+00, -6.87878788e+00, -6.47474747e+00,\n",
       "        -6.07070707e+00, -5.66666667e+00, -5.26262626e+00, -4.85858586e+00,\n",
       "        -4.45454545e+00, -4.05050505e+00, -3.64646465e+00, -3.24242424e+00,\n",
       "        -2.83838384e+00, -2.43434343e+00, -2.03030303e+00, -1.62626263e+00,\n",
       "        -1.22222222e+00, -8.18181818e-01, -4.14141414e-01, -1.01010101e-02,\n",
       "         3.93939394e-01,  7.97979798e-01,  1.20202020e+00,  1.60606061e+00,\n",
       "         2.01010101e+00,  2.41414141e+00,  2.81818182e+00,  3.22222222e+00,\n",
       "         3.62626263e+00,  4.03030303e+00,  4.43434343e+00,  4.83838384e+00,\n",
       "         5.24242424e+00,  5.64646465e+00,  6.05050505e+00,  6.45454545e+00,\n",
       "         6.85858586e+00,  7.26262626e+00,  7.66666667e+00,  8.07070707e+00,\n",
       "         8.47474747e+00,  8.87878788e+00,  9.28282828e+00,  9.68686869e+00,\n",
       "         1.00909091e+01,  1.04949495e+01,  1.08989899e+01,  1.13030303e+01,\n",
       "         1.17070707e+01,  1.21111111e+01,  1.25151515e+01,  1.29191919e+01,\n",
       "         1.33232323e+01,  1.37272727e+01,  1.41313131e+01,  1.45353535e+01,\n",
       "         1.49393939e+01,  1.53434343e+01,  1.57474747e+01,  1.61515152e+01,\n",
       "         1.65555556e+01,  1.69595960e+01,  1.73636364e+01,  1.77676768e+01,\n",
       "         1.81717172e+01,  1.85757576e+01,  1.89797980e+01,  1.93838384e+01,\n",
       "         1.97878788e+01,  2.01919192e+01,  2.05959596e+01,  2.10000000e+01]),\n",
       " <BarContainer object of 99 artists>)"
      ]
     },
     "execution_count": 29,
     "metadata": {},
     "output_type": "execute_result"
    },
    {
     "data": {
      "image/png": "[encoded data removed]",
      "text/plain": [
       "<Figure size 640x480 with 1 Axes>"
      ]
     },
     "metadata": {},
     "output_type": "display_data"
    }
   ],
   "source": [
    "b=np.random.normal(a,3)\n",
    "plt.hist(b,bins=bins)"
   ]
  },
  {
   "cell_type": "markdown",
   "id": "736dc749",
   "metadata": {},
   "source": [
    "### Question 3"
   ]
  },
  {
   "cell_type": "code",
   "execution_count": 334,
   "id": "a5c5ab0f",
   "metadata": {},
   "outputs": [],
   "source": [
    "import numpy as np \n",
    "\n",
    "class Footd:\n",
    "    \n",
    "    def __init__(self,K,T):\n",
    "        self.T=T\n",
    "        self.K=K\n",
    "\n",
    "class Gibbs:\n",
    "    \n",
    "    def __init__(self,n,distributions,priors=None,x0=None):\n",
    "        self.n=n\n",
    "        self.dist=distributions\n",
    "        self.X=None\n",
    "        if priors:\n",
    "            self.priors=priors\n",
    "            self.generate=True\n",
    "        else:\n",
    "            self.generate=False\n",
    "            self.x0=x0\n",
    "        self.masks=[i for i in range(self.n)]\n",
    "\n",
    "        for k in range(self.n):\n",
    "            mask=np.concatenate([np.ones(k, dtype=int),np.zeros(self.n-k,dtype=int)])\n",
    "            self.masks[k]=mask\n",
    "    \n",
    "    def sample(self, size):\n",
    "        ind=np.arange(self.n,dtype=int)\n",
    "        X=np.zeros((size+1,self.n))\n",
    "        if self.generate:\n",
    "            for i in range(self.n):\n",
    "                X[0,i]=(self.priors[i]).generate()\n",
    "        else:\n",
    "            X[0,:]=self.x0\n",
    "        for i in range(0,size):\n",
    "            for k in range(self.n):\n",
    "                mask=self.masks[k]+i*np.ones(self.n, dtype=int)\n",
    "                X[i+1,k]=self.dist[k].generate(X[mask,ind])\n",
    "        self.X=X\n",
    "        return X\n",
    "    \n",
    "    def cycle(self,M):\n",
    "            self.x0=self.sample(M)[-1,:]\n",
    "            \n",
    "            "
   ]
  },
  {
   "cell_type": "markdown",
   "id": "de1d44cb",
   "metadata": {},
   "source": [
    "Will assume the ordering goes theta, mu1,...,muK, sigma1,....,sigmaK, y1,1,...,y1,T,...,yK,T, giving a total of KT+2K+1 points per generation"
   ]
  },
  {
   "cell_type": "code",
   "execution_count": 31,
   "id": "d7b48540",
   "metadata": {},
   "outputs": [],
   "source": [
    "import pandas as pd\n",
    "data=pd.read_csv('football.csv')"
   ]
  },
  {
   "cell_type": "code",
   "execution_count": 32,
   "id": "b597eb8a",
   "metadata": {
    "scrolled": true
   },
   "outputs": [
    {
     "data": {
      "text/html": [
       "<div>\n",
       "<style scoped>\n",
       "    .dataframe tbody tr th:only-of-type {\n",
       "        vertical-align: middle;\n",
       "    }\n",
       "\n",
       "    .dataframe tbody tr th {\n",
       "        vertical-align: top;\n",
       "    }\n",
       "\n",
       "    .dataframe thead th {\n",
       "        text-align: right;\n",
       "    }\n",
       "</style>\n",
       "<table border=\"1\" class=\"dataframe\">\n",
       "  <thead>\n",
       "    <tr style=\"text-align: right;\">\n",
       "      <th></th>\n",
       "      <th>Team</th>\n",
       "      <th>2024</th>\n",
       "      <th>2023</th>\n",
       "      <th>2022</th>\n",
       "      <th>2021</th>\n",
       "      <th>2020</th>\n",
       "    </tr>\n",
       "  </thead>\n",
       "  <tbody>\n",
       "    <tr>\n",
       "      <th>0</th>\n",
       "      <td>Arsnal</td>\n",
       "      <td>83</td>\n",
       "      <td>90</td>\n",
       "      <td>78</td>\n",
       "      <td>87</td>\n",
       "      <td>81</td>\n",
       "    </tr>\n",
       "    <tr>\n",
       "      <th>1</th>\n",
       "      <td>Asten Villa</td>\n",
       "      <td>47</td>\n",
       "      <td>56</td>\n",
       "      <td>45</td>\n",
       "      <td>50</td>\n",
       "      <td>60</td>\n",
       "    </tr>\n",
       "    <tr>\n",
       "      <th>2</th>\n",
       "      <td>Blackborn Rovers</td>\n",
       "      <td>42</td>\n",
       "      <td>44</td>\n",
       "      <td>60</td>\n",
       "      <td>46</td>\n",
       "      <td>56</td>\n",
       "    </tr>\n",
       "    <tr>\n",
       "      <th>3</th>\n",
       "      <td>Boltin Wandrers</td>\n",
       "      <td>58</td>\n",
       "      <td>53</td>\n",
       "      <td>44</td>\n",
       "      <td>40</td>\n",
       "      <td>60</td>\n",
       "    </tr>\n",
       "    <tr>\n",
       "      <th>4</th>\n",
       "      <td>Charlston Athletic</td>\n",
       "      <td>46</td>\n",
       "      <td>53</td>\n",
       "      <td>49</td>\n",
       "      <td>44</td>\n",
       "      <td>45</td>\n",
       "    </tr>\n",
       "    <tr>\n",
       "      <th>5</th>\n",
       "      <td>Chelsea Buns</td>\n",
       "      <td>95</td>\n",
       "      <td>79</td>\n",
       "      <td>67</td>\n",
       "      <td>64</td>\n",
       "      <td>71</td>\n",
       "    </tr>\n",
       "    <tr>\n",
       "      <th>6</th>\n",
       "      <td>Evraton</td>\n",
       "      <td>61</td>\n",
       "      <td>39</td>\n",
       "      <td>59</td>\n",
       "      <td>43</td>\n",
       "      <td>46</td>\n",
       "    </tr>\n",
       "    <tr>\n",
       "      <th>7</th>\n",
       "      <td>Fullem</td>\n",
       "      <td>44</td>\n",
       "      <td>52</td>\n",
       "      <td>48</td>\n",
       "      <td>44</td>\n",
       "      <td>53</td>\n",
       "    </tr>\n",
       "    <tr>\n",
       "      <th>8</th>\n",
       "      <td>Livurpule</td>\n",
       "      <td>58</td>\n",
       "      <td>60</td>\n",
       "      <td>64</td>\n",
       "      <td>80</td>\n",
       "      <td>54</td>\n",
       "    </tr>\n",
       "    <tr>\n",
       "      <th>9</th>\n",
       "      <td>Manchester Ununited</td>\n",
       "      <td>77</td>\n",
       "      <td>75</td>\n",
       "      <td>83</td>\n",
       "      <td>77</td>\n",
       "      <td>70</td>\n",
       "    </tr>\n",
       "    <tr>\n",
       "      <th>10</th>\n",
       "      <td>Middlesbro</td>\n",
       "      <td>55</td>\n",
       "      <td>48</td>\n",
       "      <td>49</td>\n",
       "      <td>45</td>\n",
       "      <td>51</td>\n",
       "    </tr>\n",
       "    <tr>\n",
       "      <th>11</th>\n",
       "      <td>Newcassel Divided</td>\n",
       "      <td>44</td>\n",
       "      <td>56</td>\n",
       "      <td>69</td>\n",
       "      <td>71</td>\n",
       "      <td>64</td>\n",
       "    </tr>\n",
       "    <tr>\n",
       "      <th>12</th>\n",
       "      <td>Slothampton</td>\n",
       "      <td>32</td>\n",
       "      <td>47</td>\n",
       "      <td>52</td>\n",
       "      <td>45</td>\n",
       "      <td>55</td>\n",
       "    </tr>\n",
       "    <tr>\n",
       "      <th>13</th>\n",
       "      <td>Tottenham Coldspur</td>\n",
       "      <td>52</td>\n",
       "      <td>45</td>\n",
       "      <td>50</td>\n",
       "      <td>50</td>\n",
       "      <td>59</td>\n",
       "    </tr>\n",
       "  </tbody>\n",
       "</table>\n",
       "</div>"
      ],
      "text/plain": [
       "                   Team  2024  2023  2022  2021  2020\n",
       "0                Arsnal    83    90    78    87    81\n",
       "1           Asten Villa    47    56    45    50    60\n",
       "2      Blackborn Rovers    42    44    60    46    56\n",
       "3       Boltin Wandrers    58    53    44    40    60\n",
       "4    Charlston Athletic    46    53    49    44    45\n",
       "5          Chelsea Buns    95    79    67    64    71\n",
       "6               Evraton    61    39    59    43    46\n",
       "7                Fullem    44    52    48    44    53\n",
       "8             Livurpule    58    60    64    80    54\n",
       "9   Manchester Ununited    77    75    83    77    70\n",
       "10           Middlesbro    55    48    49    45    51\n",
       "11    Newcassel Divided    44    56    69    71    64\n",
       "12          Slothampton    32    47    52    45    55\n",
       "13   Tottenham Coldspur    52    45    50    50    59"
      ]
     },
     "execution_count": 32,
     "metadata": {},
     "output_type": "execute_result"
    }
   ],
   "source": [
    "data"
   ]
  },
  {
   "cell_type": "code",
   "execution_count": 33,
   "id": "29233555",
   "metadata": {},
   "outputs": [
    {
     "name": "stdout",
     "output_type": "stream",
     "text": [
      "14 5\n"
     ]
    }
   ],
   "source": [
    "K=data.shape[0]\n",
    "T=data.shape[1]-1\n",
    "print(K,T)"
   ]
  },
  {
   "cell_type": "code",
   "execution_count": 177,
   "id": "5b9c2c22",
   "metadata": {},
   "outputs": [],
   "source": [
    "class Gamma(Footd):\n",
    "    ## note generates 1/sigˆ2\n",
    "    def __init__(self,i,K=4,T=5,a=10**(-5),b=10**(-3)):\n",
    "        Footd.__init__(self,K=K,T=T)\n",
    "        self.tag=i\n",
    "        self.a=a\n",
    "        self.b=b\n",
    "    \n",
    "    def generate(self, x):\n",
    "        shape=self.T/2+self.a\n",
    "        indmu=1+self.tag\n",
    "        sq=(x[(1+2*self.K+self.tag*self.T):(1+2*self.K+indmu*self.T)]-x[indmu])**2\n",
    "        rate=self.b+0.5*sq.sum()\n",
    "        return np.random.gamma(shape,1/rate)\n",
    "\n",
    "class TNorm(Footd):\n",
    "    def __init__(self,K=4,T=5,m=60,s=10,t=20):\n",
    "        Footd.__init__(self,K=K,T=T)\n",
    "        self.s=s\n",
    "        self.t=t\n",
    "        self.m=m\n",
    "        \n",
    "    def generate(self,x):\n",
    "        var=1/(self.K/self.s**2+1/self.t**2)\n",
    "        ss=(self.m/self.t**2)+x[1:1+self.K].sum()/self.s**2\n",
    "        mean=ss*var\n",
    "        return np.random.normal(mean,np.sqrt(var))\n",
    "    \n",
    "class MNorm(Footd):\n",
    "    def __init__(self,i,K=4,T=5,m=60,s=10):\n",
    "        Footd.__init__(self,K=K,T=T)\n",
    "        self.s=s\n",
    "        self.tag=i\n",
    "\n",
    "    def generate(self,x):\n",
    "        y=x[(1+2*self.K+self.tag*self.T):(1+2*self.K+self.tag*self.T)+self.T].sum()\n",
    "        se=np.sqrt(1/(self.T*x[1+K+self.tag]+1/self.s**2))\n",
    "        mean=(x[1+K+self.tag]*y+x[0]/self.s**2)*se**2\n",
    "        return np.random.normal(mean,se)\n",
    "\n",
    "class yNorm(Footd):\n",
    "    def __init__(self,i,K=4,T=5):\n",
    "        Footd.__init__(self,K=K,T=T)\n",
    "        self.tag=i\n",
    "\n",
    "    def generate(self,x):\n",
    "        se=1/np.sqrt(x[1+self.K+self.tag])\n",
    "        mean=x[1+self.tag]\n",
    "        return np.random.normal(mean,se)\n",
    "    \n",
    "class con:\n",
    "    def __init__(self,C):\n",
    "        self.C=C\n",
    "        \n",
    "    def generate(self,*args,**kwargs):\n",
    "        return self.C\n",
    "    \n",
    "class pGamma:\n",
    "    def __init__(self,a,b):\n",
    "        self.a=a\n",
    "        self.b=b\n",
    "        \n",
    "    def generate(self):\n",
    "        return np.random.gamma(self.a,1/self.b)\n",
    "class pNorm:\n",
    "    def __init__(self,m,s):\n",
    "        self.m=m\n",
    "        self.s=s\n",
    "        \n",
    "    def generate(self):\n",
    "        return np.random.normal(self.m,np.sqrt(self.s))"
   ]
  },
  {
   "cell_type": "markdown",
   "id": "48c74360",
   "metadata": {},
   "source": [
    "Need to make a decision here regarding the initial states. Can observe that $\\mu_0=60$ should be close to the sample mean, within $2*20$ specifically. This matches the data given:"
   ]
  },
  {
   "cell_type": "code",
   "execution_count": 35,
   "id": "37be2163",
   "metadata": {
    "scrolled": true
   },
   "outputs": [
    {
     "data": {
      "text/plain": [
       "57.41428571428571"
      ]
     },
     "execution_count": 35,
     "metadata": {},
     "output_type": "execute_result"
    }
   ],
   "source": [
    "data.iloc[:,1:].to_numpy().mean()"
   ]
  },
  {
   "cell_type": "markdown",
   "id": "e47e818d",
   "metadata": {},
   "source": [
    "The value of $\\sigma_0^2=100$ describes the spread of the means $\\mu_k$ across the teams:."
   ]
  },
  {
   "cell_type": "code",
   "execution_count": 36,
   "id": "0f609a95",
   "metadata": {
    "scrolled": false
   },
   "outputs": [
    {
     "data": {
      "text/plain": [
       "array([83.8, 51.6, 49.6, 51. , 47.4, 75.2, 49.6, 48.2, 63.2, 76.4, 49.6,\n",
       "       60.8, 46.2, 51.2])"
      ]
     },
     "execution_count": 36,
     "metadata": {},
     "output_type": "execute_result"
    }
   ],
   "source": [
    "data.iloc[:,1:].to_numpy().mean(axis=1)"
   ]
  },
  {
   "cell_type": "code",
   "execution_count": 37,
   "id": "12414c30",
   "metadata": {},
   "outputs": [
    {
     "data": {
      "text/plain": [
       "144.68836734693878"
      ]
     },
     "execution_count": 37,
     "metadata": {},
     "output_type": "execute_result"
    }
   ],
   "source": [
    "data.iloc[:,1:].to_numpy().mean(axis=1).var()"
   ]
  },
  {
   "cell_type": "markdown",
   "id": "34ff55b7",
   "metadata": {},
   "source": [
    "Next note $\\sigma_{k}^{-2}$ describes the spread of each team across years. They should have mean $\\alpha_0/\\beta_0=1/100$ and variance $\\alpha_0/\\beta_0^2=10$. However note the distribution of $\\Gamma(\\alpha_0,\\beta_0)$ is quite badly behaved."
   ]
  },
  {
   "cell_type": "code",
   "execution_count": 38,
   "id": "c1f9db0c",
   "metadata": {},
   "outputs": [
    {
     "name": "stdout",
     "output_type": "stream",
     "text": [
      "[0.05506608 0.03180662 0.01990446 0.01644737 0.09398496 0.00810636\n",
      " 0.01291322 0.06868132 0.01235178 0.05733945 0.09057971 0.01027116\n",
      " 0.0158831  0.04863813] 0.03871240795052894 0.0008486279427531584\n"
     ]
    }
   ],
   "source": [
    "suv=1/data.iloc[:,1:].to_numpy().var(axis=1)\n",
    "print(suv,suv.mean(),suv.std()**2)"
   ]
  },
  {
   "cell_type": "code",
   "execution_count": 45,
   "id": "a925799e",
   "metadata": {
    "scrolled": false
   },
   "outputs": [
    {
     "name": "stdout",
     "output_type": "stream",
     "text": [
      "0.003450276870916013 0.11315001956104989\n"
     ]
    }
   ],
   "source": [
    "from scipy.stats import gamma\n",
    "G1=gamma(a = 10**(-5), scale = 10**3)\n",
    "samp=G1.rvs(10000)\n",
    "print(samp.mean(),samp.var())"
   ]
  },
  {
   "cell_type": "code",
   "execution_count": 44,
   "id": "c9cab54f",
   "metadata": {},
   "outputs": [
    {
     "data": {
      "text/plain": [
       "array([0., 0., 0., 0., 0., 0., 0., 0., 0., 0.])"
      ]
     },
     "execution_count": 44,
     "metadata": {},
     "output_type": "execute_result"
    }
   ],
   "source": [
    "G1.rvs(10)"
   ]
  },
  {
   "cell_type": "markdown",
   "id": "738d9746",
   "metadata": {},
   "source": [
    "Can see if you generated 10000 samples it would be a pretty terrible sample regardless, and the sample mean and variances are not close to converging. Not only that, most of the values generated are rounded to 0 due to being too small, which is definitely an issue since this value is the inverse of a variance and has to be positive to be well-defined."
   ]
  },
  {
   "cell_type": "markdown",
   "id": "7ced055b",
   "metadata": {},
   "source": [
    "With the above discussion in mind, we can't just generate a $\\sigma_0$ and thus must choose a fixed value. Ultimately it was decided to just use the sample approximations:\n"
   ]
  },
  {
   "cell_type": "code",
   "execution_count": 58,
   "id": "188333f1",
   "metadata": {
    "scrolled": true
   },
   "outputs": [],
   "source": [
    "def Football(data, s=10, a=10**(-5),b=10**(-3),mu=60,t=20):\n",
    "    X0=data.iloc[:,1:].to_numpy()\n",
    "    K=X0.shape[0]\n",
    "    T=X0.shape[1]\n",
    "    dist=[TNorm(K=K,T=T,m=mu,s=s,t=t)]\n",
    "    x0=[X0.mean()]\n",
    "    for i in range(K):\n",
    "        dist.append(MNorm(i=i,K=K,T=T,m=mu,s=s))\n",
    "        x0.append(X0.mean(axis=1)[i])\n",
    "    for i in range(K):\n",
    "        dist.append(Gamma(i=i,K=K,T=T,a=a,b=b))\n",
    "        x0.append(1/X0.var(axis=1)[i])\n",
    "    for i in range(K):\n",
    "        for j in range(T):\n",
    "            dist.append(yNorm(i=i,K=K,T=T))\n",
    "            x0.append(X0[i,j])\n",
    "\n",
    "    return Gibbs(1+2*K+K*T,dist,x0=x0)\n",
    "    "
   ]
  },
  {
   "cell_type": "code",
   "execution_count": 66,
   "id": "072aea2b",
   "metadata": {
    "scrolled": true
   },
   "outputs": [
    {
     "data": {
      "text/plain": [
       "array([ 6.06647904e+01,  6.04955016e+01,  6.11424593e+01,  6.05743695e+01,\n",
       "        6.01527711e+01,  6.20618101e+01,  6.03277081e+01,  6.05707201e+01,\n",
       "        6.02313933e+01,  5.99716027e+01,  6.07041407e+01,  6.12852504e+01,\n",
       "        6.07604032e+01,  6.04744394e+01,  6.05894043e+01,  4.58118766e-01,\n",
       "        1.05649742e+01,  2.71454733e+01,  6.15584770e+00,  4.81487867e+01,\n",
       "        2.78163372e+01,  9.30797155e+00,  2.89025595e+01,  2.02648429e+01,\n",
       "        1.85487801e+01,  2.23018103e+01,  2.78145281e-02,  1.86070177e+00,\n",
       "        9.79556333e+00, -1.59871540e+33,  3.95566461e+33,  3.72490377e+33,\n",
       "       -2.55081740e+33,  1.23201818e+33,  2.38631621e+28, -5.30170344e+27,\n",
       "        1.75819371e+28, -1.88998520e+28,  1.22154824e+28, -1.43725513e+19,\n",
       "       -1.40388757e+18,  3.52144226e+19, -2.76385595e+19, -1.77526428e+19,\n",
       "       -5.80343651e+25,  2.04276402e+25,  3.71881145e+25, -1.52978498e+25,\n",
       "       -2.28387760e+25,  2.09937130e+07, -1.66840996e+06,  2.12365592e+06,\n",
       "        7.58221291e+06, -5.89287427e+06, -3.17297618e+29, -3.45395532e+28,\n",
       "        1.32176744e+29,  2.39702728e+29, -9.10692632e+28,  6.44420947e+13,\n",
       "       -5.33781166e+13,  1.19118804e+13, -5.19664924e+13, -4.15576387e+13,\n",
       "       -3.21912004e+15, -4.14905612e+15,  2.90033940e+15, -7.76625865e+13,\n",
       "        1.19639304e+16, -6.67930237e+06, -1.44032529e+04, -5.17670585e+06,\n",
       "        2.29545210e+06,  4.41029059e+06,  1.15099155e+21, -2.79012260e+22,\n",
       "       -1.03802717e+22, -1.39044044e+22,  5.65396846e+21, -7.33561639e+07,\n",
       "       -4.22716491e+08, -2.93077204e+08, -3.93890433e+07, -2.15852939e+07,\n",
       "        9.32599882e+26, -6.36649247e+27,  1.09351974e+27, -2.96738462e+27,\n",
       "       -2.46446437e+28, -6.96648762e+22,  9.18324185e+22,  2.76054284e+21,\n",
       "       -6.33219227e+21, -1.10958595e+23,  2.01393233e+09, -3.40416961e+09,\n",
       "        1.67664083e+09, -2.60502606e+09,  1.39137614e+09])"
      ]
     },
     "execution_count": 66,
     "metadata": {},
     "output_type": "execute_result"
    }
   ],
   "source": [
    "test=Football(data)\n",
    "test.sample(10000).mean(axis=0)"
   ]
  },
  {
   "cell_type": "markdown",
   "id": "22d16f2e",
   "metadata": {},
   "source": [
    "## Posterior estimation\n",
    "Similar to above but limit instead to only generating $\\theta,\\sigma$ and $\\mu$ given y. Again ordering theta, mu1,...,muK, sigma1,....,sigmaK"
   ]
  },
  {
   "cell_type": "code",
   "execution_count": 176,
   "id": "c46142af",
   "metadata": {},
   "outputs": [],
   "source": [
    "class PostFd(Footd):\n",
    "    def __init__(self,y,K=4,T=5):\n",
    "        Footd.__init__(self,K=K,T=T)\n",
    "        self.y=y\n",
    "\n",
    "\n",
    "\n",
    "class GammaFd(PostFd):\n",
    "    ## note generates 1/sigˆ2\n",
    "    def __init__(self,i,y,K=4,T=5,a=10**(-5),b=10**(-3)):\n",
    "        PostFd.__init__(self,y,K=K,T=T)\n",
    "        self.tag=i\n",
    "        self.a=a\n",
    "        self.b=b\n",
    "    \n",
    "    def generate(self, x):\n",
    "        shape=self.T/2+self.a\n",
    "        indmu=1+self.tag\n",
    "        sq=(self.y[self.tag*self.T:indmu*self.T]-x[indmu])**2\n",
    "        rate=self.b+sq.sum()/2\n",
    "        self.shape=shape\n",
    "        self.rate=rate\n",
    "        return np.random.gamma(shape,1/rate)\n",
    "    \n",
    "class MNormFd(PostFd):\n",
    "    def __init__(self,i,y,K=4,T=5,s=10):\n",
    "        PostFd.__init__(self,y,K=K,T=T)\n",
    "        self.s=s\n",
    "        self.tag=i\n",
    "\n",
    "    def generate(self,x):\n",
    "        y=self.y[self.tag*self.T:self.tag*self.T+self.T].sum()\n",
    "        se=np.sqrt(1/(self.T*x[1+K+self.tag]+1/self.s**2))\n",
    "        mean=(x[1+K+self.tag]*y+x[0]/self.s**2)*se**2\n",
    "        self.mean=mean\n",
    "        self.se=se\n",
    "        return np.random.normal(mean,se)"
   ]
  },
  {
   "cell_type": "code",
   "execution_count": 322,
   "id": "c7cc280e",
   "metadata": {},
   "outputs": [],
   "source": [
    "def FootPost(data, s=10, a=10**(-5),b=10**(-3),mu=60,t=20, x0=None):\n",
    "    try:\n",
    "        X0=data.iloc[:,1:].to_numpy()\n",
    "    except:\n",
    "        X0=data[:,1:]\n",
    "    K=X0.shape[0]\n",
    "    T=X0.shape[1]\n",
    "    dist=[TNorm(K=K,T=T,m=mu,s=s,t=t)]\n",
    "    y=X0.flatten()\n",
    "    bo=not x0\n",
    "    if bo:\n",
    "        x0=[y.mean()]\n",
    "    \n",
    "    for i in range(K):\n",
    "        dist.append(MNormFd(i=i,y=y,K=K,T=T,s=s))\n",
    "        if bo:\n",
    "            x0.append(X0.mean(axis=1)[i])\n",
    "    for i in range(K):\n",
    "        dist.append(GammaFd(i=i,y=y,K=K,T=T,a=a,b=b))\n",
    "        if bo:\n",
    "            x0.append(1/X0.var(axis=1)[i])\n",
    "\n",
    "    return Gibbs(1+2*K,dist,x0=x0)\n",
    "    "
   ]
  },
  {
   "cell_type": "code",
   "execution_count": 185,
   "id": "a8cde1e9",
   "metadata": {},
   "outputs": [],
   "source": [
    "test=FootPost(data)\n",
    "samples=test.sample(10000)"
   ]
  },
  {
   "cell_type": "markdown",
   "id": "1c460f8b",
   "metadata": {},
   "source": [
    "### Question 4\n",
    "Let's obtain a posterior estimate for $\\theta \\mid y$ (note initial state). Note for the histogram we choose to play around with the bin sizes starting with $\\sqrt{n}$, trimming down when its too noisy and up when not sufficiently smooth visually"
   ]
  },
  {
   "cell_type": "code",
   "execution_count": 197,
   "id": "df50398e",
   "metadata": {},
   "outputs": [
    {
     "data": {
      "image/png": "[encoded data removed]",
      "text/plain": [
       "<Figure size 640x480 with 1 Axes>"
      ]
     },
     "metadata": {},
     "output_type": "display_data"
    },
    {
     "name": "stdout",
     "output_type": "stream",
     "text": [
      "57.41428571428571\n"
     ]
    }
   ],
   "source": [
    "plt.hist(samples[:,0],bins=np.linspace(40,70,100))\n",
    "plt.show()\n",
    "print(test.x0[0])"
   ]
  },
  {
   "cell_type": "markdown",
   "id": "cc6447fc",
   "metadata": {},
   "source": [
    "Likewise for $\\mu_1 \\mid y$ "
   ]
  },
  {
   "cell_type": "code",
   "execution_count": 198,
   "id": "e0b0dd66",
   "metadata": {},
   "outputs": [
    {
     "data": {
      "image/png": "[encoded data removed]",
      "text/plain": [
       "<Figure size 640x480 with 1 Axes>"
      ]
     },
     "metadata": {},
     "output_type": "display_data"
    },
    {
     "name": "stdout",
     "output_type": "stream",
     "text": [
      "83.8\n"
     ]
    }
   ],
   "source": [
    "plt.hist(samples[:,1],bins=np.linspace(50,100, 100))\n",
    "plt.show()\n",
    "print(test.x0[1])"
   ]
  },
  {
   "cell_type": "markdown",
   "id": "bc142d3b",
   "metadata": {},
   "source": [
    "We can estimate the various posterior means now using:"
   ]
  },
  {
   "cell_type": "code",
   "execution_count": 202,
   "id": "4a451750",
   "metadata": {},
   "outputs": [
    {
     "name": "stdout",
     "output_type": "stream",
     "text": [
      "[57.15776079 81.06442653 52.29395046 50.70036142 52.15079219 47.83731542\n",
      " 69.24670564 51.31356176 48.71025284 61.80551044 74.77347509 49.97212175\n",
      " 59.96366581 48.32813404 51.69029221]\n"
     ]
    }
   ],
   "source": [
    "print(samples.mean(axis=0)[0:1+test.dist[0].K])"
   ]
  },
  {
   "cell_type": "code",
   "execution_count": 207,
   "id": "00657913",
   "metadata": {},
   "outputs": [
    {
     "data": {
      "text/plain": [
       "array([1.75402907e-02, 1.23810000e-02, 1.92038742e-02, 1.98567969e-02,\n",
       "       1.93085460e-02, 2.09459663e-02, 1.45857922e-02, 1.96557292e-02,\n",
       "       2.05814730e-02, 1.62895910e-02, 1.34054214e-02, 2.00505417e-02,\n",
       "       1.67995483e-02, 2.08883932e-02, 1.94045003e-02, 7.95069748e+01,\n",
       "       7.41819807e+01, 1.13476212e+02, 1.34354603e+02, 2.53195136e+01,\n",
       "       3.38228691e+02, 1.72151628e+02, 3.45393746e+01, 1.82323345e+02,\n",
       "       5.49142090e+01, 2.65247048e+01, 2.03118845e+02, 1.49522604e+02,\n",
       "       4.81385222e+01])"
      ]
     },
     "execution_count": 207,
     "metadata": {},
     "output_type": "execute_result"
    }
   ],
   "source": [
    "(1/samples).mean(axis=0)"
   ]
  },
  {
   "cell_type": "code",
   "execution_count": 204,
   "id": "a1393bf7",
   "metadata": {},
   "outputs": [
    {
     "name": "stdout",
     "output_type": "stream",
     "text": [
      "[ 79.50697485  74.18198066 113.47621153 134.35460297  25.31951363\n",
      " 338.22869139 172.15162755  34.53937459 182.32334537  54.91420901\n",
      "  26.5247048  203.11884456 149.52260357  48.13852224]\n"
     ]
    }
   ],
   "source": [
    "print((1/samples).mean(axis=0)[1+test.dist[0].K:])"
   ]
  },
  {
   "cell_type": "code",
   "execution_count": 205,
   "id": "41fac2c5",
   "metadata": {},
   "outputs": [
    {
     "name": "stdout",
     "output_type": "stream",
     "text": [
      "[ 26.01033534  38.33652217  60.99161644  73.360676    13.10826406\n",
      " 166.21640538  94.23211425  17.98013673  98.23734902  23.26349569\n",
      "  13.6814884  114.9312735   78.28134062  25.37735689]\n"
     ]
    }
   ],
   "source": [
    "print(1/(samples.mean(axis=0)[1+test.dist[0].K:]))"
   ]
  },
  {
   "cell_type": "markdown",
   "id": "22eb2307",
   "metadata": {},
   "source": [
    "The last part here is just to show that we can't get an estimate for the posterior mean of $\\sigma_{k}^2$ just by taking the reciprocal of the posterior mean of $\\sigma_{k}^{-2}$. In fact we have had to secretly use the fact that if $X_i$ is ergodic Markov then $\\phi(X_{i})$ must also be ergodic Markov and the invariant distribution is precisely $\\phi(X)$ where $X$ is distributed according to the invariant distribution of $X_{i}$. This little fact follows from the fact that:\n",
    "\\begin{equation}\n",
    "\\int_{C} J_{\\phi} (X) f(\\phi(X))dX = \\int_{\\phi(C)} f(X)dX\n",
    "\\end{equation}\n",
    "For any measurable f and $C^1$ diffeomorphism $\\phi$. From this it is easy to derive the following relations:\n",
    "\\begin{align}\n",
    "\\int_{C \\times C'} J_{\\phi_1} J_{\\phi_2} (X) f(\\phi_1(X),\\phi_2(Y))dXdY &= \\int_{\\phi_1(C)\\times \\phi_2(C')} f(X,Y)dXdY \\\\\n",
    "p_{\\phi(X)}(u) &= p_{X}(\\phi^{-1}(u)) J_{\\phi{-1}}(u) \\\\\n",
    "\\pi_{\\phi(X)}(u) &= \\pi_{X}(\\phi^{-1}(u)) J_{\\phi{-1}}(u) \\\\\n",
    "p_{\\phi_{1}(X)\\mid \\phi_{2}(Y)}(u \\mid v) &= p_{X \\mid Y}(\\phi^{-1}(u) \\mid \\phi_{2}^{-1}(v)) J_{\\phi_1{-1}}(u)\n",
    "\\end{align}\n",
    "Alternatively just apply ergodic theorem to $f \\circ \\phi$ if the only result we are interested in is estimating the expected value."
   ]
  },
  {
   "cell_type": "markdown",
   "id": "463d247d",
   "metadata": {},
   "source": [
    "### Question 5"
   ]
  },
  {
   "cell_type": "markdown",
   "id": "6db84ee5",
   "metadata": {},
   "source": [
    "We can obtain a posterior estimate to $\\mathbb{P}(\\mu_{1} > \\theta \\mid y)$ by just integrating the indicator:"
   ]
  },
  {
   "cell_type": "code",
   "execution_count": 213,
   "id": "dc1ffd74",
   "metadata": {},
   "outputs": [
    {
     "name": "stdout",
     "output_type": "stream",
     "text": [
      "0.9978002199780022\n"
     ]
    }
   ],
   "source": [
    "boo=(samples[:,0]<samples[:,1])\n",
    "print(boo.sum(0)/len(boo))"
   ]
  },
  {
   "cell_type": "code",
   "execution_count": 219,
   "id": "f3b9e171",
   "metadata": {},
   "outputs": [
    {
     "name": "stdout",
     "output_type": "stream",
     "text": [
      "0.14588541145885411\n"
     ]
    }
   ],
   "source": [
    "boo=(samples[:,0]<samples[:,4])\n",
    "print(boo.sum(0)/len(boo))"
   ]
  },
  {
   "cell_type": "markdown",
   "id": "db85a466",
   "metadata": {},
   "source": [
    "### Question 6"
   ]
  },
  {
   "cell_type": "markdown",
   "id": "15ba1766",
   "metadata": {},
   "source": [
    "Let's analyze the convergence of the algorithm by considering variances for various sample sizes"
   ]
  },
  {
   "cell_type": "code",
   "execution_count": 250,
   "id": "22155c89",
   "metadata": {},
   "outputs": [],
   "source": [
    "def samp(N,size,data):\n",
    "    sampler=FootPost(data)\n",
    "    res=np.zeros((N,2))\n",
    "    for i in range(N):\n",
    "        samples=sampler.sample(size)\n",
    "        res[i,0]=samples.mean(axis=0)[1]\n",
    "        boo=(samples[:,0]<samples[:,1])\n",
    "        res[i,1]=boo.sum()/len(boo)\n",
    "    return res"
   ]
  },
  {
   "cell_type": "code",
   "execution_count": 266,
   "id": "5b6f595e",
   "metadata": {
    "scrolled": true
   },
   "outputs": [
    {
     "name": "stdout",
     "output_type": "stream",
     "text": [
      "0\n",
      "1\n",
      "2\n",
      "3\n",
      "4\n",
      "5\n",
      "6\n",
      "7\n",
      "8\n",
      "9\n"
     ]
    }
   ],
   "source": [
    "res=[]\n",
    "for i in range(10):\n",
    "    res.append(samp(100,i*100,data).var(axis=0))\n",
    "    print(i)"
   ]
  },
  {
   "cell_type": "code",
   "execution_count": 229,
   "id": "1816adf0",
   "metadata": {},
   "outputs": [
    {
     "data": {
      "text/plain": [
       "array([3.32908573e-02, 5.07983525e-06])"
      ]
     },
     "execution_count": 229,
     "metadata": {},
     "output_type": "execute_result"
    }
   ],
   "source": [
    "t.var(axis=0)"
   ]
  },
  {
   "cell_type": "code",
   "execution_count": 238,
   "id": "564338b4",
   "metadata": {},
   "outputs": [
    {
     "data": {
      "text/plain": [
       "array([0.        , 2.25      , 2.        , 2.25      , 1.84      ,\n",
       "       1.88888889, 1.95918367, 1.984375  , 1.77777778, 1.85      ])"
      ]
     },
     "execution_count": 238,
     "metadata": {},
     "output_type": "execute_result"
    }
   ],
   "source": [
    "import pandas as pd\n",
    "\n",
    "x = np.array([5, 2, 2, 5, 3, 5, 2, 5, 4, 2])\n",
    "\n",
    "pd.Series(x).expanding().var(ddof=0).to_numpy()"
   ]
  },
  {
   "cell_type": "code",
   "execution_count": 239,
   "id": "f31d4657",
   "metadata": {},
   "outputs": [
    {
     "data": {
      "text/plain": [
       "0    0.000000\n",
       "1    2.250000\n",
       "2    2.000000\n",
       "3    2.250000\n",
       "4    1.840000\n",
       "5    1.888889\n",
       "6    1.959184\n",
       "7    1.984375\n",
       "8    1.777778\n",
       "9    1.850000\n",
       "dtype: float64"
      ]
     },
     "execution_count": 239,
     "metadata": {},
     "output_type": "execute_result"
    }
   ],
   "source": [
    "pd.Series(x).rolling(window=len(x), min_periods=1).var(ddof=0)"
   ]
  },
  {
   "cell_type": "code",
   "execution_count": 243,
   "id": "b197dea7",
   "metadata": {},
   "outputs": [
    {
     "data": {
      "text/html": [
       "<div>\n",
       "<style scoped>\n",
       "    .dataframe tbody tr th:only-of-type {\n",
       "        vertical-align: middle;\n",
       "    }\n",
       "\n",
       "    .dataframe tbody tr th {\n",
       "        vertical-align: top;\n",
       "    }\n",
       "\n",
       "    .dataframe thead th {\n",
       "        text-align: right;\n",
       "    }\n",
       "</style>\n",
       "<table border=\"1\" class=\"dataframe\">\n",
       "  <thead>\n",
       "    <tr style=\"text-align: right;\">\n",
       "      <th></th>\n",
       "      <th>0</th>\n",
       "      <th>1</th>\n",
       "    </tr>\n",
       "  </thead>\n",
       "  <tbody>\n",
       "    <tr>\n",
       "      <th>0</th>\n",
       "      <td>0.000000</td>\n",
       "      <td>0.000000</td>\n",
       "    </tr>\n",
       "    <tr>\n",
       "      <th>1</th>\n",
       "      <td>0.029291</td>\n",
       "      <td>0.000009</td>\n",
       "    </tr>\n",
       "    <tr>\n",
       "      <th>2</th>\n",
       "      <td>0.020282</td>\n",
       "      <td>0.000010</td>\n",
       "    </tr>\n",
       "    <tr>\n",
       "      <th>3</th>\n",
       "      <td>0.027452</td>\n",
       "      <td>0.000010</td>\n",
       "    </tr>\n",
       "    <tr>\n",
       "      <th>4</th>\n",
       "      <td>0.036433</td>\n",
       "      <td>0.000009</td>\n",
       "    </tr>\n",
       "    <tr>\n",
       "      <th>5</th>\n",
       "      <td>0.032579</td>\n",
       "      <td>0.000007</td>\n",
       "    </tr>\n",
       "    <tr>\n",
       "      <th>6</th>\n",
       "      <td>0.027928</td>\n",
       "      <td>0.000007</td>\n",
       "    </tr>\n",
       "    <tr>\n",
       "      <th>7</th>\n",
       "      <td>0.029104</td>\n",
       "      <td>0.000006</td>\n",
       "    </tr>\n",
       "    <tr>\n",
       "      <th>8</th>\n",
       "      <td>0.036593</td>\n",
       "      <td>0.000006</td>\n",
       "    </tr>\n",
       "    <tr>\n",
       "      <th>9</th>\n",
       "      <td>0.033291</td>\n",
       "      <td>0.000005</td>\n",
       "    </tr>\n",
       "  </tbody>\n",
       "</table>\n",
       "</div>"
      ],
      "text/plain": [
       "          0         1\n",
       "0  0.000000  0.000000\n",
       "1  0.029291  0.000009\n",
       "2  0.020282  0.000010\n",
       "3  0.027452  0.000010\n",
       "4  0.036433  0.000009\n",
       "5  0.032579  0.000007\n",
       "6  0.027928  0.000007\n",
       "7  0.029104  0.000006\n",
       "8  0.036593  0.000006\n",
       "9  0.033291  0.000005"
      ]
     },
     "execution_count": 243,
     "metadata": {},
     "output_type": "execute_result"
    }
   ],
   "source": [
    "pd.DataFrame(t).rolling(window=len(x), min_periods=1,axis=0).var(ddof=0)"
   ]
  },
  {
   "cell_type": "code",
   "execution_count": 258,
   "id": "154f1086",
   "metadata": {},
   "outputs": [
    {
     "name": "stdout",
     "output_type": "stream",
     "text": [
      "0.4469108581542969\n"
     ]
    }
   ],
   "source": [
    "import time\n",
    "t1=time.time()\n",
    "ss=FootPost(data).sample(1000)\n",
    "ss.mean(axis=0)[1]\n",
    "(ss[:,0]<ss[:,1])\n",
    "print(time.time()-t1)\n"
   ]
  },
  {
   "cell_type": "code",
   "execution_count": 267,
   "id": "18802234",
   "metadata": {},
   "outputs": [],
   "source": [
    "variances=np.array(res)"
   ]
  },
  {
   "cell_type": "code",
   "execution_count": 268,
   "id": "76a78a98",
   "metadata": {},
   "outputs": [
    {
     "data": {
      "text/plain": [
       "[<matplotlib.lines.Line2D at 0x7f8927c6f970>]"
      ]
     },
     "execution_count": 268,
     "metadata": {},
     "output_type": "execute_result"
    },
    {
     "data": {
      "image/png": "[encoded data removed]",
      "text/plain": [
       "<Figure size 640x480 with 1 Axes>"
      ]
     },
     "metadata": {},
     "output_type": "display_data"
    }
   ],
   "source": [
    "plt.plot(variances[:,0])"
   ]
  },
  {
   "cell_type": "code",
   "execution_count": 271,
   "id": "334cab61",
   "metadata": {},
   "outputs": [
    {
     "data": {
      "text/plain": [
       "[<matplotlib.lines.Line2D at 0x7f892777f580>]"
      ]
     },
     "execution_count": 271,
     "metadata": {},
     "output_type": "execute_result"
    },
    {
     "data": {
      "image/png": "[encoded data removed]",
      "text/plain": [
       "<Figure size 640x480 with 1 Axes>"
      ]
     },
     "metadata": {},
     "output_type": "display_data"
    }
   ],
   "source": [
    "plt.plot(variances[:,1])"
   ]
  },
  {
   "cell_type": "markdown",
   "id": "f78c6486",
   "metadata": {},
   "source": [
    "Can note the variances seems to be exponentially decreasing over time n"
   ]
  },
  {
   "cell_type": "code",
   "execution_count": 272,
   "id": "0ec24971",
   "metadata": {},
   "outputs": [
    {
     "data": {
      "text/plain": [
       "[<matplotlib.lines.Line2D at 0x7f8928067460>]"
      ]
     },
     "execution_count": 272,
     "metadata": {},
     "output_type": "execute_result"
    },
    {
     "data": {
      "image/png": "[encoded data removed]",
      "text/plain": [
       "<Figure size 640x480 with 1 Axes>"
      ]
     },
     "metadata": {},
     "output_type": "display_data"
    }
   ],
   "source": [
    "plt.plot(np.log(variances[:,0]))"
   ]
  },
  {
   "cell_type": "code",
   "execution_count": 273,
   "id": "1bbe8d72",
   "metadata": {},
   "outputs": [
    {
     "name": "stdout",
     "output_type": "stream",
     "text": [
      "0\n",
      "1\n",
      "2\n",
      "3\n",
      "4\n",
      "5\n",
      "6\n",
      "7\n",
      "8\n",
      "9\n",
      "10\n",
      "11\n",
      "12\n",
      "13\n",
      "14\n",
      "15\n",
      "16\n",
      "17\n",
      "18\n",
      "19\n"
     ]
    }
   ],
   "source": [
    "res2=[]\n",
    "for i in range(20):\n",
    "    res2.append(samp(100,i*5,data).var(axis=0))\n",
    "    print(i)"
   ]
  },
  {
   "cell_type": "code",
   "execution_count": 274,
   "id": "4b564882",
   "metadata": {},
   "outputs": [
    {
     "data": {
      "text/plain": [
       "[<matplotlib.lines.Line2D at 0x7f8926e527c0>]"
      ]
     },
     "execution_count": 274,
     "metadata": {},
     "output_type": "execute_result"
    },
    {
     "data": {
      "image/png": "[encoded data removed]",
      "text/plain": [
       "<Figure size 640x480 with 1 Axes>"
      ]
     },
     "metadata": {},
     "output_type": "display_data"
    }
   ],
   "source": [
    "variances2=np.array(res2)\n",
    "plt.plot(variances2[:,0])"
   ]
  },
  {
   "cell_type": "code",
   "execution_count": 275,
   "id": "5191ebf3",
   "metadata": {},
   "outputs": [
    {
     "data": {
      "text/plain": [
       "[<matplotlib.lines.Line2D at 0x7f89246d7550>]"
      ]
     },
     "execution_count": 275,
     "metadata": {},
     "output_type": "execute_result"
    },
    {
     "data": {
      "image/png": "[encoded data removed]",
      "text/plain": [
       "<Figure size 640x480 with 1 Axes>"
      ]
     },
     "metadata": {},
     "output_type": "display_data"
    }
   ],
   "source": [
    "plt.plot(variances2[:,1])"
   ]
  },
  {
   "cell_type": "markdown",
   "id": "25ed9986",
   "metadata": {},
   "source": [
    "## Question 7"
   ]
  },
  {
   "cell_type": "markdown",
   "id": "5f6ad6bf",
   "metadata": {},
   "source": [
    "Repeating the same thing but with letting it run for $M$ cycles first and setting the result as the initial state"
   ]
  },
  {
   "cell_type": "code",
   "execution_count": 299,
   "id": "cc8c0a04",
   "metadata": {},
   "outputs": [],
   "source": [
    "sampler=FootPost(data)"
   ]
  },
  {
   "cell_type": "code",
   "execution_count": 291,
   "id": "558bfa74",
   "metadata": {},
   "outputs": [],
   "source": [
    "sampler.cycle(1000)"
   ]
  },
  {
   "cell_type": "code",
   "execution_count": 325,
   "id": "c713fefb",
   "metadata": {},
   "outputs": [],
   "source": [
    "def samp(N,size,data,sampler=None):\n",
    "    res=np.zeros((N,2))\n",
    "    for i in range(N):\n",
    "        samples=sampler.sample(size)\n",
    "        res[i,0]=samples.mean(axis=0)[1]\n",
    "        boo=(samples[:,0]<samples[:,1])\n",
    "        res[i,1]=boo.sum()/len(boo)\n",
    "    return res"
   ]
  },
  {
   "cell_type": "code",
   "execution_count": 295,
   "id": "45f1a477",
   "metadata": {},
   "outputs": [
    {
     "name": "stdout",
     "output_type": "stream",
     "text": [
      "0\n",
      "1\n",
      "2\n",
      "3\n",
      "4\n",
      "5\n",
      "6\n",
      "7\n",
      "8\n",
      "9\n"
     ]
    }
   ],
   "source": [
    "rc=[]\n",
    "for i in range(10):\n",
    "    rc.append(samp(100,i*100,data,sampler).var(axis=0))\n",
    "    print(i)"
   ]
  },
  {
   "cell_type": "code",
   "execution_count": 300,
   "id": "ebbb8d78",
   "metadata": {},
   "outputs": [],
   "source": [
    "sampler.cycle(100)"
   ]
  },
  {
   "cell_type": "code",
   "execution_count": 301,
   "id": "29327fd3",
   "metadata": {},
   "outputs": [
    {
     "name": "stdout",
     "output_type": "stream",
     "text": [
      "0\n",
      "1\n",
      "2\n",
      "3\n",
      "4\n",
      "5\n",
      "6\n",
      "7\n",
      "8\n",
      "9\n"
     ]
    }
   ],
   "source": [
    "rc2=[]\n",
    "for i in range(10):\n",
    "    rc2.append(samp(100,i*100,data,sampler).var(axis=0))\n",
    "    print(i)"
   ]
  },
  {
   "cell_type": "code",
   "execution_count": 302,
   "id": "9724d814",
   "metadata": {},
   "outputs": [
    {
     "data": {
      "text/plain": [
       "[<matplotlib.lines.Line2D at 0x7f892189bd90>]"
      ]
     },
     "execution_count": 302,
     "metadata": {},
     "output_type": "execute_result"
    },
    {
     "data": {
      "image/png": "[encoded data removed]",
      "text/plain": [
       "<Figure size 640x480 with 1 Axes>"
      ]
     },
     "metadata": {},
     "output_type": "display_data"
    }
   ],
   "source": [
    "plt.plot(np.array(rc2)[:,0])"
   ]
  },
  {
   "cell_type": "code",
   "execution_count": 304,
   "id": "869a1722",
   "metadata": {},
   "outputs": [
    {
     "data": {
      "text/plain": [
       "[<matplotlib.lines.Line2D at 0x7f89224c1880>]"
      ]
     },
     "execution_count": 304,
     "metadata": {},
     "output_type": "execute_result"
    },
    {
     "data": {
      "image/png": "[encoded data removed]",
      "text/plain": [
       "<Figure size 640x480 with 1 Axes>"
      ]
     },
     "metadata": {},
     "output_type": "display_data"
    }
   ],
   "source": [
    "plt.plot(np.array(rc)[:,0])"
   ]
  },
  {
   "cell_type": "markdown",
   "id": "f29d0d03",
   "metadata": {},
   "source": [
    "The general shape is still the same, since for small N the result is the sample variance of a small sample. In theory it should be a slight improvement since initial state could have been chosen to be non typical. However in the initial state were generated from the invariant distribution it would provide no change a tall."
   ]
  },
  {
   "cell_type": "markdown",
   "id": "1ec3113f",
   "metadata": {},
   "source": [
    "### Question 8\n",
    "Experimenting with starting points"
   ]
  },
  {
   "cell_type": "code",
   "execution_count": 336,
   "id": "d304d34e",
   "metadata": {},
   "outputs": [],
   "source": [
    "start=np.random.gamma(20,1029)\n",
    "sampler=FootPost(data, start)"
   ]
  },
  {
   "cell_type": "code",
   "execution_count": 329,
   "id": "ba4af5cd",
   "metadata": {},
   "outputs": [
    {
     "name": "stdout",
     "output_type": "stream",
     "text": [
      "0\n",
      "1\n",
      "2\n",
      "3\n",
      "4\n",
      "5\n",
      "6\n",
      "7\n",
      "8\n",
      "9\n"
     ]
    }
   ],
   "source": [
    "res=[]\n",
    "for i in range(10):\n",
    "    res.append(samp(100,i*100,data,sampler).var(axis=0))\n",
    "    print(i)"
   ]
  },
  {
   "cell_type": "code",
   "execution_count": 330,
   "id": "28e03775",
   "metadata": {},
   "outputs": [
    {
     "name": "stdout",
     "output_type": "stream",
     "text": [
      "0\n",
      "1\n",
      "2\n",
      "3\n",
      "4\n",
      "5\n",
      "6\n",
      "7\n",
      "8\n",
      "9\n",
      "10\n",
      "11\n",
      "12\n",
      "13\n",
      "14\n",
      "15\n",
      "16\n",
      "17\n",
      "18\n",
      "19\n"
     ]
    }
   ],
   "source": [
    "res2=[]\n",
    "for i in range(20):\n",
    "    res2.append(samp(100,i*5,data,sampler).var(axis=0))\n",
    "    print(i)"
   ]
  },
  {
   "cell_type": "code",
   "execution_count": 331,
   "id": "7997d6df",
   "metadata": {},
   "outputs": [
    {
     "data": {
      "text/plain": [
       "[<matplotlib.lines.Line2D at 0x7f8920ce9bb0>]"
      ]
     },
     "execution_count": 331,
     "metadata": {},
     "output_type": "execute_result"
    },
    {
     "data": {
      "image/png": "[encoded data removed]",
      "text/plain": [
       "<Figure size 640x480 with 1 Axes>"
      ]
     },
     "metadata": {},
     "output_type": "display_data"
    }
   ],
   "source": [
    "plt.plot(np.array(res)[:,0])"
   ]
  },
  {
   "cell_type": "code",
   "execution_count": 332,
   "id": "ef9644d6",
   "metadata": {},
   "outputs": [
    {
     "data": {
      "text/plain": [
       "[<matplotlib.lines.Line2D at 0x7f8921d54fa0>]"
      ]
     },
     "execution_count": 332,
     "metadata": {},
     "output_type": "execute_result"
    },
    {
     "data": {
      "image/png": "[encoded data removed]",
      "text/plain": [
       "<Figure size 640x480 with 1 Axes>"
      ]
     },
     "metadata": {},
     "output_type": "display_data"
    }
   ],
   "source": [
    "plt.plot(np.array(res2)[:,0])"
   ]
  },
  {
   "cell_type": "markdown",
   "id": "0b1df7be",
   "metadata": {},
   "source": [
    "Can see for example that the variance is much higher here, also expect then that pre-computing helps:"
   ]
  },
  {
   "cell_type": "code",
   "execution_count": 338,
   "id": "77ff3a7b",
   "metadata": {},
   "outputs": [],
   "source": [
    "sampler.cycle(1000)"
   ]
  },
  {
   "cell_type": "code",
   "execution_count": 339,
   "id": "2d04999d",
   "metadata": {},
   "outputs": [
    {
     "name": "stdout",
     "output_type": "stream",
     "text": [
      "0\n",
      "1\n",
      "2\n",
      "3\n",
      "4\n",
      "5\n",
      "6\n",
      "7\n",
      "8\n",
      "9\n"
     ]
    },
    {
     "data": {
      "text/plain": [
       "[<matplotlib.lines.Line2D at 0x7f8922403220>]"
      ]
     },
     "execution_count": 339,
     "metadata": {},
     "output_type": "execute_result"
    },
    {
     "data": {
      "image/png": "[encoded data removed]",
      "text/plain": [
       "<Figure size 640x480 with 1 Axes>"
      ]
     },
     "metadata": {},
     "output_type": "display_data"
    }
   ],
   "source": [
    "rc=[]\n",
    "for i in range(10):\n",
    "    rc.append(samp(100,i*100,data,sampler).var(axis=0))\n",
    "    print(i)\n",
    "plt.plot(np.array(rc)[:,0])"
   ]
  },
  {
   "cell_type": "code",
   "execution_count": 340,
   "id": "e2a79400",
   "metadata": {},
   "outputs": [
    {
     "data": {
      "text/plain": [
       "array([5.94404620e+01, 7.97976932e+01, 5.06650618e+01, 5.06569832e+01,\n",
       "       4.05941269e+01, 4.81017310e+01, 8.86812592e+01, 4.28242395e+01,\n",
       "       5.15075854e+01, 4.82464179e+01, 7.31676153e+01, 5.12246961e+01,\n",
       "       5.80924746e+01, 5.09271550e+01, 5.32360143e+01, 6.48409654e-02,\n",
       "       5.20791242e-02, 8.48248863e-03, 5.18675230e-03, 1.06497717e-01,\n",
       "       5.46609273e-03, 8.65583032e-04, 4.67023951e-02, 3.24069814e-03,\n",
       "       4.38524091e-02, 4.42718473e-02, 1.77986559e-02, 2.28654969e-02,\n",
       "       4.77489256e-02])"
      ]
     },
     "execution_count": 340,
     "metadata": {},
     "output_type": "execute_result"
    }
   ],
   "source": [
    "sampler.x0"
   ]
  },
  {
   "cell_type": "markdown",
   "id": "51a1d888",
   "metadata": {},
   "source": [
    "Perhaps an easy way to note this is to observe that $\\Gamma(n/2, \\lambda) \\sim (2\\lambda)^{-1}\\chi^2_n$, and thus we have that $\\sigma^{-2}_{k} \\sim (2\\lambda(y,\\mu_{k}))^{-1}\\chi^2_n$ for a fixed $n$. $(2\\lambda(y,\\mu_{k})$ will be a value here that is intuitively roughly equal to $\\alpha_0$ plus the sample variance as given by $y_{k,.}$ and $\\mu_k$. As a result if the initial states are chosen such that the $y_{k,.}$ are spread far away from $\\mu_k$, then $\\sigma^{2}_{k}$ will be very large which in turn also causes the next generation of $\\mu_{k}$ to have a large spread. \n"
   ]
  }
 ],
 "metadata": {
  "kernelspec": {
   "display_name": "Python 3 (ipykernel)",
   "language": "python",
   "name": "python3"
  },
  "language_info": {
   "codemirror_mode": {
    "name": "ipython",
    "version": 3
   },
   "file_extension": ".py",
   "mimetype": "text/x-python",
   "name": "python",
   "nbconvert_exporter": "python",
   "pygments_lexer": "ipython3",
   "version": "3.11.5"
  }
 },
 "nbformat": 4,
 "nbformat_minor": 5
}
